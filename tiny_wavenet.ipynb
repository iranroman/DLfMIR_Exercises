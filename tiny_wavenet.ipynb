{
 "cells": [
  {
   "cell_type": "code",
   "execution_count": 5,
   "metadata": {},
   "outputs": [],
   "source": [
    "import numpy as np\n",
    "import scipy.io\n",
    "import tensorflow as tf\n",
    "import matplotlib.pyplot as plt"
   ]
  },
  {
   "cell_type": "code",
   "execution_count": 158,
   "metadata": {},
   "outputs": [
    {
     "name": "stdout",
     "output_type": "stream",
     "text": [
      "(7, 2756, 94, 1)\n",
      "(7, 94)\n",
      "(3, 2756, 94, 1)\n",
      "(3, 94)\n"
     ]
    }
   ],
   "source": [
    "# let's load the IRMAS dataset\n",
    "IRMAS = scipy.io.loadmat('IRMAS_small.mat')\n",
    "data = IRMAS['data']\n",
    "\n",
    "X = data[0:10,0:-1:16]\n",
    "\n",
    "X_q = np.round(X,decimals=2)\n",
    "\n",
    "quants = np.unique(X_q)\n",
    "nquants = quants.shape[0]\n",
    "\n",
    "N,D = X_q.shape\n",
    "\n",
    "X = np.zeros((N,D,nquants,1))\n",
    "\n",
    "for i in xrange(N):\n",
    "    for j in xrange(D):\n",
    "        i_hot = np.where(X_q[i,j] == quants) \n",
    "        X[i,j,i_hot[0][0]] = 1\n",
    "        \n",
    "Y = X[:,-1,:,:].reshape(X.shape[0],X.shape[2])\n",
    "X = X[:,0:-1,:,:]\n",
    "\n",
    "N,D,_,_ = X.shape\n",
    "\n",
    "X_tr = X[0:7,:,:,:]\n",
    "Y_tr = Y[0:7,:]\n",
    "X_ts = X[7:,:,:,:]\n",
    "Y_ts = Y[7:,:]\n",
    "\n",
    "print X_tr.shape\n",
    "print Y_tr.shape\n",
    "print X_ts.shape\n",
    "print Y_ts.shape"
   ]
  },
  {
   "cell_type": "code",
   "execution_count": 162,
   "metadata": {},
   "outputs": [
    {
     "data": {
      "image/png": "[encoded data removed]",
      "text/plain": [
       "<matplotlib.figure.Figure at 0x12275f950>"
      ]
     },
     "metadata": {},
     "output_type": "display_data"
    },
    {
     "name": "stdout",
     "output_type": "stream",
     "text": [
      "training accuracy is: 28.5714285714\n",
      "test accuracy is: 0.0\n"
     ]
    }
   ],
   "source": [
    "lr = 0.5\n",
    "gamma = 0.01\n",
    "\n",
    "X_tf = tf.placeholder(\"float\", [None,D,nquants,1])\n",
    "y_tf = tf.placeholder(\"float\", [None,nquants])\n",
    "\n",
    "C1D = 2\n",
    "C1ch = 3\n",
    "C2D = 1\n",
    "C2ch = 4\n",
    "\n",
    "W1 = tf.Variable(tf.truncated_normal([C1D,nquants,1,C1ch],stddev=0.01))\n",
    "W2 = tf.concat([tf.truncated_normal([C2D,1,C1ch,C2ch],stddev=0.01), \n",
    "                tf.zeros((1,1,C1ch,C2ch)),\n",
    "               tf.truncated_normal([C2D,1,C1ch,C2ch],stddev=0.01)],0)\n",
    "Wo = tf.Variable(tf.truncated_normal([int(round(D/4))*C2ch,nquants],stddev=0.01))\n",
    "\n",
    "C1_out = tf.nn.conv2d(X_tf, W1, strides=[1,1,nquants,1],padding = 'SAME')\n",
    "C1_out = tf.nn.relu(C1_out)\n",
    "C2_out = tf.nn.conv2d(C1_out,W2, strides = [1,4,1,1],padding = 'SAME' )\n",
    "C2_out = tf.nn.relu(C2_out)\n",
    "\n",
    "C2_out_flat = tf.reshape(C2_out,[-1,int(round(D/4))*C2ch])\n",
    "\n",
    "scores = tf.matmul(C2_out_flat,Wo)\n",
    "\n",
    "y_hat = tf.nn.softmax(scores)\n",
    "\n",
    "# loss\n",
    "loss = tf.reduce_mean(tf.nn.softmax_cross_entropy_with_logits(logits=scores,labels=y_tf)\n",
    "                     + gamma*tf.nn.l2_loss(W1) + gamma*tf.nn.l2_loss(W2) + \n",
    "                     gamma*tf.nn.l2_loss(Wo))\n",
    "\n",
    "train_step = tf.train.AdamOptimizer(lr).minimize(loss)\n",
    "\n",
    "sess = tf.Session()\n",
    "init = tf.global_variables_initializer()\n",
    "sess.run(init)\n",
    "\n",
    "nepochs = 100\n",
    "\n",
    "loss_t = np.zeros((1,nepochs))\n",
    "\n",
    "# this is our training \n",
    "for e in xrange(nepochs):\n",
    "    step = sess.run(train_step,feed_dict={X_tf: X_tr, y_tf: Y_tr})\n",
    "    curr_loss = sess.run(loss,feed_dict={X_tf: X_tr, y_tf: Y_tr})\n",
    "    loss_t[0,e] = curr_loss\n",
    "    \n",
    "plt.plot(loss_t.T)\n",
    "plt.show()\n",
    "\n",
    "curr_scores = sess.run(scores,feed_dict={X_tf: X_tr, y_tf: Y_tr})\n",
    "y_hat_correct = np.argmax(curr_scores,axis=1)\n",
    "y_correct = np.argmax(Y_tr,axis=1)\n",
    "\n",
    "print \"training accuracy is: \" + str(100.0*np.sum(y_hat_correct == y_correct)/Y_tr.shape[0])\n",
    "\n",
    "curr_scores = sess.run(scores,feed_dict={X_tf: X_ts, y_tf: Y_ts})\n",
    "y_hat_correct = np.argmax(curr_scores,axis=1)\n",
    "y_correct = np.argmax(Y_ts,axis=1)\n",
    "\n",
    "print \"test accuracy is: \" + str(100.0*np.sum(y_hat_correct == y_correct)/Y_ts.shape[0])\n",
    "\n",
    "sess.close()"
   ]
  },
  {
   "cell_type": "code",
   "execution_count": 152,
   "metadata": {},
   "outputs": [
    {
     "data": {
      "text/plain": [
       "4.600594520568848"
      ]
     },
     "execution_count": 152,
     "metadata": {},
     "output_type": "execute_result"
    }
   ],
   "source": [
    "loss_t[0,-1]"
   ]
  },
  {
   "cell_type": "code",
   "execution_count": null,
   "metadata": {},
   "outputs": [],
   "source": []
  },
  {
   "cell_type": "code",
   "execution_count": null,
   "metadata": {},
   "outputs": [],
   "source": []
  },
  {
   "cell_type": "code",
   "execution_count": null,
   "metadata": {},
   "outputs": [],
   "source": []
  },
  {
   "cell_type": "code",
   "execution_count": null,
   "metadata": {},
   "outputs": [],
   "source": []
  },
  {
   "cell_type": "code",
   "execution_count": null,
   "metadata": {},
   "outputs": [],
   "source": []
  },
  {
   "cell_type": "code",
   "execution_count": null,
   "metadata": {},
   "outputs": [],
   "source": []
  },
  {
   "cell_type": "code",
   "execution_count": null,
   "metadata": {},
   "outputs": [],
   "source": []
  },
  {
   "cell_type": "code",
   "execution_count": null,
   "metadata": {},
   "outputs": [],
   "source": []
  }
 ],
 "metadata": {
  "kernelspec": {
   "display_name": "Python 2",
   "language": "python",
   "name": "python2"
  },
  "language_info": {
   "codemirror_mode": {
    "name": "ipython",
    "version": 2
   },
   "file_extension": ".py",
   "mimetype": "text/x-python",
   "name": "python",
   "nbconvert_exporter": "python",
   "pygments_lexer": "ipython2",
   "version": "2.7.11"
  }
 },
 "nbformat": 4,
 "nbformat_minor": 2
}
