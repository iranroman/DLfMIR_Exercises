{
 "cells": [
  {
   "cell_type": "code",
   "execution_count": 5,
   "metadata": {},
   "outputs": [],
   "source": [
    "import numpy as np\n",
    "import scipy.io\n",
    "import tensorflow as tf\n",
    "import matplotlib.pyplot as plt"
   ]
  },
  {
   "cell_type": "code",
   "execution_count": 82,
   "metadata": {},
   "outputs": [
    {
     "name": "stdout",
     "output_type": "stream",
     "text": [
      "(3, 2757, 55, 1)\n"
     ]
    }
   ],
   "source": [
    "# let's load the IRMAS dataset\n",
    "IRMAS = scipy.io.loadmat('IRMAS_small.mat')\n",
    "data = IRMAS['data']\n",
    "\n",
    "X = data[0:3,0:-1:16]\n",
    "\n",
    "X_q = np.round(X,decimals=2)\n",
    "\n",
    "quants = np.unique(X_q)\n",
    "nquants = quants.shape[0]\n",
    "\n",
    "N,D = X_q.shape\n",
    "\n",
    "X = np.zeros((N,D,nquants,1))\n",
    "\n",
    "for i in xrange(N):\n",
    "    for j in xrange(D):\n",
    "        i_hot = np.where(X_q[i,j] == quants) \n",
    "        X[i,j,i_hot[0][0]] = 1\n",
    "        \n",
    "print X.shape        "
   ]
  },
  {
   "cell_type": "code",
   "execution_count": 92,
   "metadata": {},
   "outputs": [],
   "source": [
    "lr = 0.01\n",
    "\n",
    "X_tf = tf.placeholder(\"float\", [None,D,nquants,1])\n",
    "y_tf = tf.placeholder(\"float\", [None,nquants])\n",
    "\n",
    "C1D = 2\n",
    "C1ch = 3\n",
    "C2D = 1\n",
    "C2ch = 4\n",
    "\n",
    "W1 = tf.Variable(tf.truncated_normal([C1D,nquants,1,C1ch],stddev=0.001))\n",
    "W2 = tf.concat([tf.truncated_normal([C2D,1,C1ch,C2ch],stddev=0.001), \n",
    "                tf.zeros((1,1,C1ch,C2ch)),\n",
    "               tf.truncated_normal([C2D,1,C1ch,C2ch],stddev=0.001)],0)\n",
    "\n",
    "C1_out = tf.nn.conv2d(X_tf, W1, strides=[1,1,nquants,1],padding = 'SAME')\n",
    "C1_out = tf.nn.relu(C1_out)\n",
    "C2_out = tf.nn.conv2d(C1_out,W2, strides = [1,2,1,C1ch],padding = 'SAME' )\n",
    "C2_out = tf.nn.relu(C2_out)\n",
    "\n",
    "C2_out_flat = tf.reshape(C2_out,[-1,(D/2)*C2ch])"
   ]
  },
  {
   "cell_type": "code",
   "execution_count": null,
   "metadata": {},
   "outputs": [],
   "source": []
  },
  {
   "cell_type": "code",
   "execution_count": null,
   "metadata": {},
   "outputs": [],
   "source": []
  },
  {
   "cell_type": "code",
   "execution_count": null,
   "metadata": {},
   "outputs": [],
   "source": []
  },
  {
   "cell_type": "code",
   "execution_count": null,
   "metadata": {},
   "outputs": [],
   "source": []
  },
  {
   "cell_type": "code",
   "execution_count": null,
   "metadata": {},
   "outputs": [],
   "source": []
  },
  {
   "cell_type": "code",
   "execution_count": null,
   "metadata": {},
   "outputs": [],
   "source": []
  },
  {
   "cell_type": "code",
   "execution_count": null,
   "metadata": {},
   "outputs": [],
   "source": []
  },
  {
   "cell_type": "code",
   "execution_count": null,
   "metadata": {},
   "outputs": [],
   "source": []
  },
  {
   "cell_type": "code",
   "execution_count": null,
   "metadata": {},
   "outputs": [],
   "source": []
  }
 ],
 "metadata": {
  "kernelspec": {
   "display_name": "Python 2",
   "language": "python",
   "name": "python2"
  },
  "language_info": {
   "codemirror_mode": {
    "name": "ipython",
    "version": 2
   },
   "file_extension": ".py",
   "mimetype": "text/x-python",
   "name": "python",
   "nbconvert_exporter": "python",
   "pygments_lexer": "ipython2",
   "version": "2.7.11"
  }
 },
 "nbformat": 4,
 "nbformat_minor": 2
}
